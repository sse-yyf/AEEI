{
 "cells": [
  {
   "cell_type": "markdown",
   "id": "10f3785f",
   "metadata": {},
   "source": [
    "## Task 8.1"
   ]
  },
  {
   "cell_type": "code",
   "execution_count": 6,
   "id": "e26045ab",
   "metadata": {},
   "outputs": [],
   "source": [
    "def miles_to_km(miles):\n",
    "    conversion_factor = 1.60934\n",
    "    km = miles * conversion_factor\n",
    "    return km\n",
    "\n",
    "def get_miles_from_user():\n",
    "    while True:\n",
    "        try:\n",
    "            miles = float(input(\"Enter the mile/h: \"))\n",
    "            return miles\n",
    "        except ValueError:\n",
    "            print(\"Invalid input. Please enter a valid number.\")\n",
    "\n",
    "def main():\n",
    "    print(\"Miles to KM Converter\")\n",
    "    miles = get_miles_from_user()\n",
    "    km = miles_to_km(miles)\n",
    "    print(f\"{miles} mile/h is approximately {km:.2f} km/h.\")\n",
    "\n",
    "if __name__ == \"__main\":\n",
    "    main()"
   ]
  },
  {
   "cell_type": "markdown",
   "id": "41f28b8d",
   "metadata": {},
   "source": [
    "## Task 8.2"
   ]
  },
  {
   "cell_type": "code",
   "execution_count": 7,
   "id": "b08660e4",
   "metadata": {},
   "outputs": [],
   "source": [
    "import string\n",
    "\n",
    "def is_palindrome(text):\n",
    "    text = ''.join(char for char in text if char.isalnum()).lower()\n",
    "    return text == text[::-1]\n",
    "\n",
    "def get_text_from_user():\n",
    "    text = input(\"Enter text to check for palindrome: \")\n",
    "    return text\n",
    "\n",
    "def main():\n",
    "    print(\"Palindrome Detector\")\n",
    "    text = get_text_from_user()\n",
    "    if is_palindrome(text):\n",
    "        print(f\"'{text}' is a palindrome!\")\n",
    "    else:\n",
    "        print(f\"'{text}' is not a palindrome.\")\n",
    "\n",
    "if __name__ == \"__main\":\n",
    "    main()"
   ]
  },
  {
   "cell_type": "markdown",
   "id": "574633cc",
   "metadata": {},
   "source": [
    "## Task 8.3"
   ]
  },
  {
   "cell_type": "code",
   "execution_count": 11,
   "id": "1ec22a5c",
   "metadata": {},
   "outputs": [],
   "source": [
    "import os\n",
    "import re\n",
    "import string\n",
    "\n",
    "def clean_and_process_word(word, stopwords):\n",
    "    word = re.sub(r'[^a-zA-Z]', '', word).lower() \n",
    "    if word not in stopwords:\n",
    "        return word\n",
    "    \n",
    "def count_and_save_word_frequency(directory, congress, stopwords,path_save):\n",
    "    word_frequencies = {}\n",
    "    \n",
    "    for dirpath, dirnames, filenames in os.walk(directory):\n",
    "        for filename in filenames:\n",
    "            file_name = filename.replace('.txt', '')\n",
    "            congress, name, state = filename.split('-')\n",
    "\n",
    "            with open(os.path.join(dirpath, filename), 'r', encoding='utf-8', errors='ignore') as file:\n",
    "                speech = file.read()\n",
    "                words = speech.split()\n",
    "                \n",
    "                for word in words:\n",
    "                    cleaned_word = clean_and_process_word(word, stopwords)\n",
    "                    if cleaned_word:\n",
    "                        key = (congress, name, state, cleaned_word)\n",
    "                        word_frequencies[key] = word_frequencies.get(key, 0) + 1\n",
    "                        \n",
    "    csv_file_path = os.path.join(path_save, f'word_frequencies_{congress}.csv')\n",
    "    \n",
    "    with open(csv_file_path, 'w') as output_file:\n",
    "        output_file.write(\"file_name,word,frequency\\n\")\n",
    "        for key, frequency in word_frequencies.items():\n",
    "            output_file.write(f\"{key[0]}-{key[1]}-{key[2]}.txt,{key[3]},{frequency}\\n\")\n",
    "\n",
    "def load_stopwords(stopwords_file):\n",
    "    with open(stopwords_file, 'r') as file:\n",
    "        stopwords = {line.strip() for line in file}\n",
    "    return stopwords\n",
    "\n",
    "path_save = '../output/'\n",
    "\n",
    "if __name__ == \"__main__\":\n",
    "    directory_105 = \"../input/105-extracted-date\" \n",
    "    directory_106 = \"../input/106-extracted-date\" \n",
    "    stopwords_file = \"../input/droplist.txt\" \n",
    "    stopwords = load_stopwords(stopwords_file)\n",
    "\n",
    "    count_and_save_word_frequency(directory_105, \"105\", stopwords,path_save)\n",
    "    count_and_save_word_frequency(directory_106, \"106\", stopwords,path_save)"
   ]
  },
  {
   "cell_type": "code",
   "execution_count": null,
   "id": "a4b2a05b",
   "metadata": {},
   "outputs": [],
   "source": []
  }
 ],
 "metadata": {
  "kernelspec": {
   "display_name": "Python 3",
   "language": "python",
   "name": "python3"
  },
  "language_info": {
   "codemirror_mode": {
    "name": "ipython",
    "version": 3
   },
   "file_extension": ".py",
   "mimetype": "text/x-python",
   "name": "python",
   "nbconvert_exporter": "python",
   "pygments_lexer": "ipython3",
   "version": "3.8.8"
  }
 },
 "nbformat": 4,
 "nbformat_minor": 5
}
