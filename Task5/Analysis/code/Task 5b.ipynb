{
 "cells": [
  {
   "cell_type": "code",
   "execution_count": 32,
   "id": "7d76236a",
   "metadata": {},
   "outputs": [],
   "source": [
    "import pandas as pd\n",
    "import numpy as np\n",
    "from sklearn.model_selection import train_test_split, cross_val_score\n",
    "from sklearn.ensemble import RandomForestRegressor\n",
    "from sklearn.metrics import accuracy_score\n",
    "from sklearn.metrics import mean_squared_error"
   ]
  },
  {
   "cell_type": "code",
   "execution_count": 33,
   "id": "63bc75e4",
   "metadata": {},
   "outputs": [],
   "source": [
    "df = pd.read_csv(\"../input/growthdata92_02.csv\",index_col=0)\n",
    "x = df.drop(['iso3','ln_y','growth'], axis=1)\n",
    "y1 = df['ln_y']\n",
    "y2 = df['growth']\n",
    "\n",
    "df_0211 = pd.read_csv(\"../input/growthdata02_11.csv\",index_col=0)\n",
    "x_0211 = df_0211.drop(['iso3','ln_y','growth'], axis=1)\n",
    "y1_0211 = df_0211['ln_y']\n",
    "y2_0211 = df_0211['growth']\n",
    "\n",
    "x1_train,x1_test,y1_train,y1_test = train_test_split(x,y1,test_size = 0.2)\n",
    "x2_train,x2_test,y2_train,y2_test = train_test_split(x,y2,test_size = 0.2)"
   ]
  },
  {
   "cell_type": "code",
   "execution_count": 39,
   "id": "282663c2",
   "metadata": {},
   "outputs": [
    {
     "name": "stdout",
     "output_type": "stream",
     "text": [
      "Best score: 0.8513559040740208\n",
      "Best alpha: 94\n",
      "MAE for naive predictor: 0.06768653325525972\n",
      "RMSE for kitchen sink predictor: 0.22983315505328836\n",
      "Performance on test set: 0.4296410499790884\n",
      "Performance on 02-11 dataset: 0.3703576196369367\n",
      "Best score: 0.016529065776454778\n",
      "Best alpha: 46\n",
      "MAE for naive predictor: 0.0008251380612412165\n",
      "RMSE for kitchen sink predictor: 0.016276197492782554\n",
      "Performance on test set: 0.03041289116127451\n",
      "Performance on 02-11 dataset: 0.02981989645251401\n"
     ]
    }
   ],
   "source": [
    "alphas = [i for i in range(1, 101)]\n",
    "for x_train,x_test, y, y_train, y_test,y_0211 in [(x1_train,x1_test,y1, y1_train, y1_test, y1_0211),\n",
    "                                                  (x2_train,x2_test,y2, y2_train, y2_test, y2_0211)]:\n",
    "    rf_scores = []\n",
    "    for alpha in alphas:\n",
    "        rf = RandomForestRegressor(n_estimators = alpha)\n",
    "        scores = cross_val_score(rf, x_train, y_train, cv=10)\n",
    "        rf_scores.append(np.mean(scores))\n",
    "    best_alpha_index = np.argmax(rf_scores)  \n",
    "    best_alpha = alphas[best_alpha_index]  \n",
    "    best_score = rf_scores[best_alpha_index] \n",
    "    print('Best score: ' + str(best_score))\n",
    "    print('Best alpha: ' + str(best_alpha))\n",
    "    # Ex1\n",
    "    rf = RandomForestRegressor(n_estimators = best_alpha)\n",
    "    rf.fit(x_train, y_train)\n",
    "    mean = pd.DataFrame(np.mean(x_train)).transpose()\n",
    "    naive_y_pre = rf.predict(mean)\n",
    "    mae = abs(naive_y_pre[0] - np.mean(y_train))\n",
    "    print('MAE for naive predictor: ' + str(mae))\n",
    "    sink_y_pre = rf.predict(x)\n",
    "    rmse = np.sqrt(mean_squared_error(y, sink_y_pre))\n",
    "    print('RMSE for kitchen sink predictor: '+ str(rmse))\n",
    "    test_y_pre = rf.predict(x_test)\n",
    "    test_rmse = np.sqrt(mean_squared_error(y_test, test_y_pre))\n",
    "    print('Performance on test set: ' + str(test_rmse))\n",
    "    # Ex2\n",
    "    test_y_0211_pre = rf.predict(x_0211)\n",
    "    test_rmse_0211 = np.sqrt(mean_squared_error(y_0211, test_y_0211_pre))\n",
    "    print('Performance on 02-11 dataset: ' + str(test_rmse_0211))\n"
   ]
  }
 ],
 "metadata": {
  "kernelspec": {
   "display_name": "Python 3",
   "language": "python",
   "name": "python3"
  },
  "language_info": {
   "codemirror_mode": {
    "name": "ipython",
    "version": 3
   },
   "file_extension": ".py",
   "mimetype": "text/x-python",
   "name": "python",
   "nbconvert_exporter": "python",
   "pygments_lexer": "ipython3",
   "version": "3.8.8"
  }
 },
 "nbformat": 4,
 "nbformat_minor": 5
}
